{
 "cells": [
  {
   "cell_type": "code",
   "execution_count": null,
   "metadata": {},
   "outputs": [],
   "source": [
    "def calc(num):\n",
    "    unit_price = 1980          # 単価を設定\n",
    "    if not num.isdigit() :    # 数字かどうかチェックする\n",
    "        return None          # 数字ではないときはNoneを返す\n",
    "    return int(num) * unit_price\n",
    "\n",
    "# キーボードから個数を入力し、価格を表示する\n",
    "while True :\n",
    "    input_num = input(\"個数を入れてください。（qで終了）\")\n",
    "    if input_num == \"\" : \n",
    "        continue\n",
    "    elif input_num == \"q\" :\n",
    "        break\n",
    "        \n",
    "    # calc()を呼び、価格を計算する\n",
    "    result = calc(input_num)\n",
    "    print(result)"
   ]
  },
  {
   "cell_type": "code",
   "execution_count": null,
   "metadata": {},
   "outputs": [],
   "source": [
    "# BMIの関数　入力は身長と体重\n",
    "def bmi(tall,weight): \n",
    "    # 入力値は数値でなければ、戻る\n",
    "    if not tall.isdigit() or not weight.isdigit() :\n",
    "        return print('数字を入れて')\n",
    "    tall = float(tall)          # 型変換\n",
    "    weight = float(weight)      # 型変換\n",
    "    bmi = weight / tall / tall  # 計算式\n",
    "    bmi = round(bmi,2)          # 小数点2桁で丸める\n",
    "    print(bmi)                  # 25以上は肥満\n",
    "\n",
    "input_tall = input('あなたの身長をメートルで入力　：')  # 身長\n",
    "input_weight = input('あなたの体重を㎏で入力　：')      # 体重\n",
    "bmi(input_tall,input_weight)  # 関数呼び出し"
   ]
  },
  {
   "cell_type": "code",
   "execution_count": 2,
   "metadata": {},
   "outputs": [
    {
     "name": "stdout",
     "output_type": "stream",
     "text": [
      "あなたの身長をメートルで入力　：1.7\n",
      "あなたの体重を㎏で入力　：70\n",
      "24.22\n"
     ]
    }
   ],
   "source": [
    "# BMIの関数　入力は身長と体重\n",
    "def bmi(tall,weight): \n",
    "    tall = float(tall)          # 型変換\n",
    "    weight = float(weight)      # 型変換\n",
    "    bmi = weight / tall / tall  # 計算式\n",
    "    bmi = round(bmi,2)          # 小数点2桁で丸める\n",
    "    print(bmi)                  # 25以上は肥満\n",
    "\n",
    "input_tall = input('あなたの身長をメートルで入力　：')  # 身長\n",
    "input_weight = input('あなたの体重を㎏で入力　：')      # 体重\n",
    "bmi(weight=input_weight, tall=input_tall)  # キーワード呼び出し"
   ]
  }
 ],
 "metadata": {
  "kernelspec": {
   "display_name": "Python 3",
   "language": "python",
   "name": "python3"
  },
  "language_info": {
   "codemirror_mode": {
    "name": "ipython",
    "version": 3
   },
   "file_extension": ".py",
   "mimetype": "text/x-python",
   "name": "python",
   "nbconvert_exporter": "python",
   "pygments_lexer": "ipython3",
   "version": "3.7.6"
  }
 },
 "nbformat": 4,
 "nbformat_minor": 4
}
